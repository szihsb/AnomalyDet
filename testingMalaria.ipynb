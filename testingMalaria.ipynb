{
  "nbformat": 4,
  "nbformat_minor": 0,
  "metadata": {
    "colab": {
      "provenance": []
    },
    "kernelspec": {
      "name": "python3",
      "display_name": "Python 3"
    },
    "language_info": {
      "name": "python"
    }
  },
  "cells": [
    {
      "cell_type": "code",
      "execution_count": 1,
      "metadata": {
        "id": "VlYtyFTOfc4e"
      },
      "outputs": [],
      "source": [
        "from flask import Flask, render_template, request\n",
        "from PIL import Image\n",
        "import numpy as np\n",
        "from tensorflow.keras.models import load_model"
      ]
    },
    {
      "cell_type": "code",
      "source": [
        "app = Flask(__name__)\n",
        "model = load_model('/content/drive/MyDrive/malaria/autoencoder_model')"
      ],
      "metadata": {
        "id": "LqCuM0P5fsVS"
      },
      "execution_count": 3,
      "outputs": []
    },
    {
      "cell_type": "code",
      "source": [
        "def check_anomaly(img_path):\n",
        "    density_threshold = 2700 # Set this value based on the above exercise\n",
        "    reconstruction_error_threshold = 0.0089 # Set this value based on the above exercise\n",
        "\n",
        "    # Load the image\n",
        "    img = Image.open(img_path)\n",
        "    img = np.array(img.resize((128, 128), Image.ANTIALIAS))\n",
        "    plt.imshow(img)\n",
        "    plt.show()\n",
        "\n",
        "    # Preprocess the image\n",
        "    img = img / 255.\n",
        "    img = img[np.newaxis, :, :, :]\n",
        "\n",
        "    # Encode the image\n",
        "    encoded_img = encoder_model.predict([[img]])\n",
        "    encoded_img = [np.reshape(img, out_vector_shape) for img in encoded_img]\n",
        "\n",
        "    # Calculate density and reconstruction error\n",
        "    density = kde.score_samples(encoded_img)[0]\n",
        "    reconstruction = model.predict([[img]])\n",
        "    reconstruction_error = model.evaluate([reconstruction], [[img]], batch_size=1)[0]\n",
        "\n",
        "    # Determine if the image is an anomaly\n",
        "    if density < density_threshold or reconstruction_error > reconstruction_error_threshold:\n",
        "        print(\"The image is an anomaly\")\n",
        "    else:\n",
        "        print(\"The image is NOT an anomaly\")"
      ],
      "metadata": {
        "id": "XmEYMdW0gEwa"
      },
      "execution_count": 4,
      "outputs": []
    },
    {
      "cell_type": "code",
      "source": [
        "@app.route('/')\n",
        "def index():\n",
        "    return render_template('index.html')\n",
        "\n",
        "@app.route('/upload', methods=['POST'])\n",
        "def upload():\n",
        "    if request.method == 'POST':\n",
        "        file = request.files['file']\n",
        "        if file:\n",
        "            img_path = '/tmp/uploaded_image.jpg'\n",
        "            file.save(img_path)\n",
        "            result = check_anomaly_random(img_path)\n",
        "            return render_template('index.html', result=result)\n",
        "    return \"No file uploaded\""
      ],
      "metadata": {
        "id": "j49YENpAgSmA"
      },
      "execution_count": 5,
      "outputs": []
    },
    {
      "cell_type": "code",
      "source": [
        "if __name__ == '__main__':\n",
        "    app.run(debug=True)"
      ],
      "metadata": {
        "colab": {
          "base_uri": "https://localhost:8080/"
        },
        "id": "kEMo-wqYgeeK",
        "outputId": "31879b4d-1167-4d39-e4a9-84a6bc2b048d"
      },
      "execution_count": 6,
      "outputs": [
        {
          "output_type": "stream",
          "name": "stdout",
          "text": [
            " * Serving Flask app '__main__'\n",
            " * Debug mode: on\n"
          ]
        },
        {
          "output_type": "stream",
          "name": "stderr",
          "text": [
            "INFO:werkzeug:\u001b[31m\u001b[1mWARNING: This is a development server. Do not use it in a production deployment. Use a production WSGI server instead.\u001b[0m\n",
            " * Running on http://127.0.0.1:5000\n",
            "INFO:werkzeug:\u001b[33mPress CTRL+C to quit\u001b[0m\n",
            "INFO:werkzeug: * Restarting with stat\n"
          ]
        }
      ]
    },
    {
      "cell_type": "code",
      "source": [],
      "metadata": {
        "id": "kD8anEiVgkrW"
      },
      "execution_count": null,
      "outputs": []
    }
  ]
}